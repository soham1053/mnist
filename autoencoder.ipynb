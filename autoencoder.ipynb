{
 "cells": [
  {
   "cell_type": "code",
   "execution_count": 1,
   "metadata": {},
   "outputs": [],
   "source": [
    "import numpy as np\n",
    "import torch\n",
    "import torch.nn as nn\n",
    "import torchvision\n",
    "import torch.nn.functional as F\n",
    "import torch.optim as optim\n",
    "import matplotlib.pyplot as plt\n",
    "from IPython import display\n",
    "\n",
    "%matplotlib inline"
   ]
  },
  {
   "cell_type": "code",
   "execution_count": 2,
   "metadata": {},
   "outputs": [],
   "source": [
    "batchSizeTrain = 64\n",
    "batchSizeTest = 1000\n",
    "trainLoader = torch.utils.data.DataLoader(\n",
    "  torchvision.datasets.MNIST('./files/', train=True, download=True,\n",
    "                             transform=torchvision.transforms.Compose([\n",
    "                               torchvision.transforms.ToTensor(),\n",
    "                               torchvision.transforms.Normalize(\n",
    "                                 (0.1307,), (0.3081,))\n",
    "                             ])),\n",
    "  batch_size=batchSizeTrain, shuffle=True)\n",
    "\n",
    "testLoader = torch.utils.data.DataLoader(\n",
    "  torchvision.datasets.MNIST('./files/', train=False, download=True,\n",
    "                             transform=torchvision.transforms.Compose([\n",
    "                               torchvision.transforms.ToTensor(),\n",
    "                               torchvision.transforms.Normalize(\n",
    "                                 (0.1307,), (0.3081,))\n",
    "                             ])),\n",
    "  batch_size=batchSizeTest, shuffle=True)"
   ]
  },
  {
   "cell_type": "code",
   "execution_count": 3,
   "metadata": {},
   "outputs": [
    {
     "name": "stdout",
     "output_type": "stream",
     "text": [
      "Example Batch #0\n",
      "Input Shape: torch.Size([64, 1, 28, 28])\n"
     ]
    },
    {
     "data": {
      "text/plain": [
       "Text(0.5, 1.0, 'Ground Truth: 2')"
      ]
     },
     "execution_count": 3,
     "metadata": {},
     "output_type": "execute_result"
    },
    {
     "data": {
      "image/png": "[encoded data removed]",
      "text/plain": [
       "<Figure size 432x288 with 1 Axes>"
      ]
     },
     "metadata": {
      "needs_background": "light"
     },
     "output_type": "display_data"
    }
   ],
   "source": [
    "exBatchIdx, (exData, exLabels) = next(enumerate(trainLoader))\n",
    "\n",
    "print(f\"Example Batch #{exBatchIdx}\")\n",
    "print(f\"Input Shape: {exData.shape}\")\n",
    "exInputIdx = np.random.randint(batchSizeTrain)\n",
    "plt.imshow(exData[exInputIdx][0])\n",
    "plt.title(f\"Ground Truth: {exLabels[exInputIdx]}\")"
   ]
  },
  {
   "cell_type": "code",
   "execution_count": 4,
   "metadata": {},
   "outputs": [],
   "source": [
    "class AutoEncoder(nn.Module):\n",
    "    def __init__(self):\n",
    "        super(AutoEncoder, self).__init__()\n",
    "        \n",
    "        self.encode1 = nn.Linear(28*28, 100)\n",
    "        self.encode2 = nn.Linear(100, 64)\n",
    "        self.encode3 = nn.Linear(64, 64)\n",
    "        self.encode4 = nn.Linear(64, 10)\n",
    "        \n",
    "        self.decode1 = nn.Linear(10, 64)\n",
    "        self.decode2 = nn.Linear(64, 64)\n",
    "        self.decode3 = nn.Linear(64, 100)\n",
    "        self.decode4 = nn.Linear(100, 28*28)\n",
    "    def forward(self, x):\n",
    "        x = x.view(-1, 28*28)\n",
    "        \n",
    "        x = F.relu(self.encode1(x))\n",
    "        x = F.relu(self.encode2(x))\n",
    "        x = F.relu(self.encode3(x))\n",
    "        x = F.relu(self.encode4(x))\n",
    "        \n",
    "        x = F.relu(self.decode1(x))\n",
    "        x = F.relu(self.decode2(x))\n",
    "        x = F.relu(self.decode3(x))\n",
    "        x = F.relu(self.decode4(x))\n",
    "        \n",
    "        x = x.view(-1, 1, 28, 28)\n",
    "        return x"
   ]
  },
  {
   "cell_type": "code",
   "execution_count": 5,
   "metadata": {},
   "outputs": [
    {
     "data": {
      "text/plain": [
       "AutoEncoder(\n",
       "  (encode1): Linear(in_features=784, out_features=100, bias=True)\n",
       "  (encode2): Linear(in_features=100, out_features=64, bias=True)\n",
       "  (encode3): Linear(in_features=64, out_features=64, bias=True)\n",
       "  (encode4): Linear(in_features=64, out_features=10, bias=True)\n",
       "  (decode1): Linear(in_features=10, out_features=64, bias=True)\n",
       "  (decode2): Linear(in_features=64, out_features=64, bias=True)\n",
       "  (decode3): Linear(in_features=64, out_features=100, bias=True)\n",
       "  (decode4): Linear(in_features=100, out_features=784, bias=True)\n",
       ")"
      ]
     },
     "execution_count": 5,
     "metadata": {},
     "output_type": "execute_result"
    }
   ],
   "source": [
    "def init_weights(m):\n",
    "    if type(m) == nn.Linear:\n",
    "        torch.nn.init.kaiming_uniform_(m.weight)\n",
    "        m.bias.data.fill_(0)\n",
    "model = AutoEncoder()\n",
    "model.apply(init_weights)"
   ]
  },
  {
   "cell_type": "code",
   "execution_count": 6,
   "metadata": {},
   "outputs": [],
   "source": [
    "n_epochs = 15\n",
    "learning_rate = 0.0003\n",
    "loss_beta = 0.99\n",
    "loss_running_avg = 0\n",
    "losses = []\n",
    "\n",
    "criterion = nn.MSELoss()\n",
    "optimizer = optim.Adam(model.parameters(), lr=learning_rate)"
   ]
  },
  {
   "cell_type": "code",
   "execution_count": 7,
   "metadata": {},
   "outputs": [],
   "source": [
    "def plot():\n",
    "    plt.title(\"Training\")\n",
    "    plt.xlabel(\"Batch Number\")\n",
    "    plt.ylabel(\"Loss\")\n",
    "    plt.plot(losses)\n",
    "    plt.pause(0.001)\n",
    "    display.clear_output(wait=True)"
   ]
  },
  {
   "cell_type": "code",
   "execution_count": 8,
   "metadata": {},
   "outputs": [
    {
     "name": "stdout",
     "output_type": "stream",
     "text": [
      "Epoch #15 Loss Running Average: 0.5026325437940253\n",
      "Average Training Loss: 0.5743104558170646\n"
     ]
    }
   ],
   "source": [
    "t = 0\n",
    "for epoch in range(n_epochs):\n",
    "    for batch_idx, (inputs, _) in enumerate(trainLoader):        \n",
    "        t += 1\n",
    "        \n",
    "        outputs = model(inputs)\n",
    "        loss = criterion(outputs, inputs)\n",
    "        \n",
    "        loss_running_avg = loss_beta * loss_running_avg + (1-loss_beta) * loss.item()\n",
    "        losses.append(loss_running_avg / (1 - loss_beta**t))\n",
    "        \n",
    "        optimizer.zero_grad()\n",
    "        loss.backward()\n",
    "        optimizer.step()\n",
    "        \n",
    "        if batch_idx % 100 == 0:\n",
    "            plot()\n",
    "    print(f\"Epoch #{epoch+1} Loss Running Average: {loss_running_avg}\")\n",
    "\n",
    "print(f\"Average Training Loss: {avgTrainLoss}\")"
   ]
  },
  {
   "cell_type": "code",
   "execution_count": 58,
   "metadata": {},
   "outputs": [
    {
     "name": "stdout",
     "output_type": "stream",
     "text": [
      "Average Training Loss: 0.5034714780573143\n"
     ]
    }
   ],
   "source": [
    "avgTrainLoss = 0\n",
    "nTrainBatches = 0\n",
    "for batch_idx, (inputs, _) in enumerate(trainLoader):\n",
    "    outputs = model(inputs)\n",
    "    loss = criterion(outputs, inputs)\n",
    "    avgTrainLoss += loss.item()\n",
    "    \n",
    "    nTrainBatches += 1\n",
    "    \n",
    "avgTrainLoss /= nTrainBatches\n",
    "print(f\"Average Training Loss: {avgTrainLoss}\")"
   ]
  },
  {
   "cell_type": "code",
   "execution_count": 59,
   "metadata": {},
   "outputs": [
    {
     "name": "stdout",
     "output_type": "stream",
     "text": [
      "Average Testing Loss: 0.502514910697937\n"
     ]
    }
   ],
   "source": [
    "avgTestLoss = 0\n",
    "nTestBatches = 0\n",
    "for batch_idx, (inputs, _) in enumerate(testLoader):\n",
    "    outputs = model(inputs)\n",
    "    loss = criterion(outputs, inputs)\n",
    "    avgTestLoss += loss.item()\n",
    "    \n",
    "    nTestBatches += 1\n",
    "    \n",
    "avgTestLoss /= nTestBatches\n",
    "print(f\"Average Testing Loss: {avgTestLoss}\")"
   ]
  },
  {
   "cell_type": "code",
   "execution_count": 81,
   "metadata": {},
   "outputs": [
    {
     "data": {
      "text/plain": [
       "<matplotlib.image.AxesImage at 0x24e9db739d0>"
      ]
     },
     "execution_count": 81,
     "metadata": {},
     "output_type": "execute_result"
    },
    {
     "data": {
      "image/png": "[encoded data removed]",
      "text/plain": [
       "<Figure size 432x288 with 2 Axes>"
      ]
     },
     "metadata": {},
     "output_type": "display_data"
    }
   ],
   "source": [
    "exBatchIdx, (exData, _) = next(enumerate(testLoader))\n",
    "\n",
    "exInputIdx = np.random.randint(batchSizeTrain)\n",
    "exImg = exData[exInputIdx]\n",
    "\n",
    "plt.subplot(1, 2, 1)\n",
    "plt.title('Real Image')\n",
    "plt.xticks([])\n",
    "plt.yticks([])\n",
    "plt.imshow(exImg[0])\n",
    "plt.subplot(1, 2, 2)\n",
    "plt.title('Decoded Image')\n",
    "plt.xticks([])\n",
    "plt.yticks([])\n",
    "plt.imshow(model(exImg.unsqueeze(0))[0][0].detach().numpy())"
   ]
  }
 ],
 "metadata": {
  "kernelspec": {
   "display_name": "Python 3",
   "language": "python",
   "name": "python3"
  },
  "language_info": {
   "codemirror_mode": {
    "name": "ipython",
    "version": 3
   },
   "file_extension": ".py",
   "mimetype": "text/x-python",
   "name": "python",
   "nbconvert_exporter": "python",
   "pygments_lexer": "ipython3",
   "version": "3.8.4"
  }
 },
 "nbformat": 4,
 "nbformat_minor": 4
}
